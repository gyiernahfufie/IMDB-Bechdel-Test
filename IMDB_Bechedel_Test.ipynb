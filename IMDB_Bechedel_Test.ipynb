{
  "nbformat": 4,
  "nbformat_minor": 0,
  "metadata": {
    "colab": {
      "name": "IMDB Bechedel Test.ipynb",
      "provenance": [],
      "collapsed_sections": [],
      "history_visible": true,
      "mount_file_id": "1rtgfIV5DuOiMUaIhIehBOS6BUUjftmy8",
      "authorship_tag": "ABX9TyM4xoj09ZSkHOdMO2MEadvX",
      "include_colab_link": true
    },
    "kernelspec": {
      "name": "python3",
      "display_name": "Python 3"
    },
    "language_info": {
      "name": "python"
    }
  },
  "cells": [
    {
      "cell_type": "markdown",
      "metadata": {
        "id": "view-in-github",
        "colab_type": "text"
      },
      "source": [
        "<a href=\"https://colab.research.google.com/github/gyiernahfufie/IMDB-Bechdel-Test/blob/main/IMDB_Bechedel_Test.ipynb\" target=\"_parent\"><img src=\"https://colab.research.google.com/assets/colab-badge.svg\" alt=\"Open In Colab\"/></a>"
      ]
    },
    {
      "cell_type": "markdown",
      "metadata": {
        "id": "jf-G1yWr5H_U"
      },
      "source": [
        "Reference: https://towardsdatascience.com/the-bechdel-test-analyzing-gender-disparity-in-hollywood-263cd4bcd9d"
      ]
    },
    {
      "cell_type": "markdown",
      "metadata": {
        "id": "VMGewdo8_VF_"
      },
      "source": [
        "Data Pre-processing"
      ]
    },
    {
      "cell_type": "code",
      "metadata": {
        "id": "FmZdlXko5Ht9"
      },
      "source": [
        "#import data from bechdeltest\n",
        "import urllib, json\n",
        "import pandas as pd"
      ],
      "execution_count": 62,
      "outputs": []
    },
    {
      "cell_type": "code",
      "metadata": {
        "id": "tA0WW7KP1ZYB"
      },
      "source": [
        "df = pd.read_json('http://bechdeltest.com/api/v1/getAllMovies')"
      ],
      "execution_count": 63,
      "outputs": []
    },
    {
      "cell_type": "code",
      "metadata": {
        "colab": {
          "base_uri": "https://localhost:8080/",
          "height": 204
        },
        "id": "VpJEb9o78h-o",
        "outputId": "52698529-0c27-4a80-8cea-fa515368d299"
      },
      "source": [
        "df.head()"
      ],
      "execution_count": 64,
      "outputs": [
        {
          "output_type": "execute_result",
          "data": {
            "text/html": [
              "<div>\n",
              "<style scoped>\n",
              "    .dataframe tbody tr th:only-of-type {\n",
              "        vertical-align: middle;\n",
              "    }\n",
              "\n",
              "    .dataframe tbody tr th {\n",
              "        vertical-align: top;\n",
              "    }\n",
              "\n",
              "    .dataframe thead th {\n",
              "        text-align: right;\n",
              "    }\n",
              "</style>\n",
              "<table border=\"1\" class=\"dataframe\">\n",
              "  <thead>\n",
              "    <tr style=\"text-align: right;\">\n",
              "      <th></th>\n",
              "      <th>imdbid</th>\n",
              "      <th>rating</th>\n",
              "      <th>id</th>\n",
              "      <th>title</th>\n",
              "      <th>year</th>\n",
              "    </tr>\n",
              "  </thead>\n",
              "  <tbody>\n",
              "    <tr>\n",
              "      <th>0</th>\n",
              "      <td>3155794</td>\n",
              "      <td>0</td>\n",
              "      <td>9602</td>\n",
              "      <td>Passage de Venus</td>\n",
              "      <td>1874</td>\n",
              "    </tr>\n",
              "    <tr>\n",
              "      <th>1</th>\n",
              "      <td>14495706</td>\n",
              "      <td>0</td>\n",
              "      <td>9804</td>\n",
              "      <td>La Rosace Magique</td>\n",
              "      <td>1877</td>\n",
              "    </tr>\n",
              "    <tr>\n",
              "      <th>2</th>\n",
              "      <td>12592084</td>\n",
              "      <td>0</td>\n",
              "      <td>9806</td>\n",
              "      <td>Le singe musicien</td>\n",
              "      <td>1878</td>\n",
              "    </tr>\n",
              "    <tr>\n",
              "      <th>3</th>\n",
              "      <td>2221420</td>\n",
              "      <td>0</td>\n",
              "      <td>9603</td>\n",
              "      <td>Sallie Gardner at a Gallop</td>\n",
              "      <td>1878</td>\n",
              "    </tr>\n",
              "    <tr>\n",
              "      <th>4</th>\n",
              "      <td>7816420</td>\n",
              "      <td>0</td>\n",
              "      <td>9816</td>\n",
              "      <td>Athlete Swinging a Pick</td>\n",
              "      <td>1881</td>\n",
              "    </tr>\n",
              "  </tbody>\n",
              "</table>\n",
              "</div>"
            ],
            "text/plain": [
              "     imdbid  rating    id                       title  year\n",
              "0   3155794       0  9602            Passage de Venus  1874\n",
              "1  14495706       0  9804           La Rosace Magique  1877\n",
              "2  12592084       0  9806           Le singe musicien  1878\n",
              "3   2221420       0  9603  Sallie Gardner at a Gallop  1878\n",
              "4   7816420       0  9816     Athlete Swinging a Pick  1881"
            ]
          },
          "metadata": {},
          "execution_count": 64
        }
      ]
    },
    {
      "cell_type": "code",
      "metadata": {
        "id": "M4jo-UGo8rgd"
      },
      "source": [
        "#filter data to only include movies from 1967 onwards\n",
        "df_new = df[df['year'] >= 1967 ]"
      ],
      "execution_count": 65,
      "outputs": []
    },
    {
      "cell_type": "code",
      "metadata": {
        "colab": {
          "base_uri": "https://localhost:8080/",
          "height": 204
        },
        "id": "T3wLHesM81SV",
        "outputId": "8ee0eb5e-c384-4011-b27a-a4e16d15c846"
      },
      "source": [
        "df_new.head()"
      ],
      "execution_count": 66,
      "outputs": [
        {
          "output_type": "execute_result",
          "data": {
            "text/html": [
              "<div>\n",
              "<style scoped>\n",
              "    .dataframe tbody tr th:only-of-type {\n",
              "        vertical-align: middle;\n",
              "    }\n",
              "\n",
              "    .dataframe tbody tr th {\n",
              "        vertical-align: top;\n",
              "    }\n",
              "\n",
              "    .dataframe thead th {\n",
              "        text-align: right;\n",
              "    }\n",
              "</style>\n",
              "<table border=\"1\" class=\"dataframe\">\n",
              "  <thead>\n",
              "    <tr style=\"text-align: right;\">\n",
              "      <th></th>\n",
              "      <th>imdbid</th>\n",
              "      <th>rating</th>\n",
              "      <th>id</th>\n",
              "      <th>title</th>\n",
              "      <th>year</th>\n",
              "    </tr>\n",
              "  </thead>\n",
              "  <tbody>\n",
              "    <tr>\n",
              "      <th>1219</th>\n",
              "      <td>0062990</td>\n",
              "      <td>3</td>\n",
              "      <td>4722</td>\n",
              "      <td>Fox, The</td>\n",
              "      <td>1967</td>\n",
              "    </tr>\n",
              "    <tr>\n",
              "      <th>1220</th>\n",
              "      <td>0063278</td>\n",
              "      <td>1</td>\n",
              "      <td>2054</td>\n",
              "      <td>Marketa Lazarova</td>\n",
              "      <td>1967</td>\n",
              "    </tr>\n",
              "    <tr>\n",
              "      <th>1221</th>\n",
              "      <td>0062411</td>\n",
              "      <td>3</td>\n",
              "      <td>6714</td>\n",
              "      <td>Uchu daikaiju Girara</td>\n",
              "      <td>1967</td>\n",
              "    </tr>\n",
              "    <tr>\n",
              "      <th>1222</th>\n",
              "      <td>0061512</td>\n",
              "      <td>1</td>\n",
              "      <td>301</td>\n",
              "      <td>Cool Hand Luke</td>\n",
              "      <td>1967</td>\n",
              "    </tr>\n",
              "    <tr>\n",
              "      <th>1223</th>\n",
              "      <td>0061452</td>\n",
              "      <td>2</td>\n",
              "      <td>2664</td>\n",
              "      <td>Casino Royale</td>\n",
              "      <td>1967</td>\n",
              "    </tr>\n",
              "  </tbody>\n",
              "</table>\n",
              "</div>"
            ],
            "text/plain": [
              "       imdbid  rating    id                 title  year\n",
              "1219  0062990       3  4722              Fox, The  1967\n",
              "1220  0063278       1  2054      Marketa Lazarova  1967\n",
              "1221  0062411       3  6714  Uchu daikaiju Girara  1967\n",
              "1222  0061512       1   301        Cool Hand Luke  1967\n",
              "1223  0061452       2  2664         Casino Royale  1967"
            ]
          },
          "metadata": {},
          "execution_count": 66
        }
      ]
    },
    {
      "cell_type": "code",
      "metadata": {
        "colab": {
          "base_uri": "https://localhost:8080/"
        },
        "id": "eLl0XOOs9XIe",
        "outputId": "3753fac7-ffd2-4153-9033-f16d0a65a61f"
      },
      "source": [
        "#renaming rating column to bechdel_score \n",
        "df_new.rename(columns = {'rating' : 'bechdel_score'}, inplace = True)"
      ],
      "execution_count": 67,
      "outputs": [
        {
          "output_type": "stream",
          "name": "stderr",
          "text": [
            "/usr/local/lib/python3.7/dist-packages/pandas/core/frame.py:4308: SettingWithCopyWarning: \n",
            "A value is trying to be set on a copy of a slice from a DataFrame\n",
            "\n",
            "See the caveats in the documentation: https://pandas.pydata.org/pandas-docs/stable/user_guide/indexing.html#returning-a-view-versus-a-copy\n",
            "  errors=errors,\n"
          ]
        }
      ]
    },
    {
      "cell_type": "code",
      "metadata": {
        "colab": {
          "base_uri": "https://localhost:8080/",
          "height": 297
        },
        "id": "mmXXLlkj97zu",
        "outputId": "a2bc8f78-ddde-485a-f529-e301acb7659b"
      },
      "source": [
        "df_new.describe()"
      ],
      "execution_count": 68,
      "outputs": [
        {
          "output_type": "execute_result",
          "data": {
            "text/html": [
              "<div>\n",
              "<style scoped>\n",
              "    .dataframe tbody tr th:only-of-type {\n",
              "        vertical-align: middle;\n",
              "    }\n",
              "\n",
              "    .dataframe tbody tr th {\n",
              "        vertical-align: top;\n",
              "    }\n",
              "\n",
              "    .dataframe thead th {\n",
              "        text-align: right;\n",
              "    }\n",
              "</style>\n",
              "<table border=\"1\" class=\"dataframe\">\n",
              "  <thead>\n",
              "    <tr style=\"text-align: right;\">\n",
              "      <th></th>\n",
              "      <th>bechdel_score</th>\n",
              "      <th>id</th>\n",
              "      <th>year</th>\n",
              "    </tr>\n",
              "  </thead>\n",
              "  <tbody>\n",
              "    <tr>\n",
              "      <th>count</th>\n",
              "      <td>8053.000000</td>\n",
              "      <td>8053.000000</td>\n",
              "      <td>8053.000000</td>\n",
              "    </tr>\n",
              "    <tr>\n",
              "      <th>mean</th>\n",
              "      <td>2.188998</td>\n",
              "      <td>4985.263256</td>\n",
              "      <td>2003.885757</td>\n",
              "    </tr>\n",
              "    <tr>\n",
              "      <th>std</th>\n",
              "      <td>1.067537</td>\n",
              "      <td>2874.033068</td>\n",
              "      <td>12.759725</td>\n",
              "    </tr>\n",
              "    <tr>\n",
              "      <th>min</th>\n",
              "      <td>0.000000</td>\n",
              "      <td>1.000000</td>\n",
              "      <td>1967.000000</td>\n",
              "    </tr>\n",
              "    <tr>\n",
              "      <th>25%</th>\n",
              "      <td>1.000000</td>\n",
              "      <td>2521.000000</td>\n",
              "      <td>1997.000000</td>\n",
              "    </tr>\n",
              "    <tr>\n",
              "      <th>50%</th>\n",
              "      <td>3.000000</td>\n",
              "      <td>5035.000000</td>\n",
              "      <td>2008.000000</td>\n",
              "    </tr>\n",
              "    <tr>\n",
              "      <th>75%</th>\n",
              "      <td>3.000000</td>\n",
              "      <td>7439.000000</td>\n",
              "      <td>2013.000000</td>\n",
              "    </tr>\n",
              "    <tr>\n",
              "      <th>max</th>\n",
              "      <td>3.000000</td>\n",
              "      <td>10030.000000</td>\n",
              "      <td>2021.000000</td>\n",
              "    </tr>\n",
              "  </tbody>\n",
              "</table>\n",
              "</div>"
            ],
            "text/plain": [
              "       bechdel_score            id         year\n",
              "count    8053.000000   8053.000000  8053.000000\n",
              "mean        2.188998   4985.263256  2003.885757\n",
              "std         1.067537   2874.033068    12.759725\n",
              "min         0.000000      1.000000  1967.000000\n",
              "25%         1.000000   2521.000000  1997.000000\n",
              "50%         3.000000   5035.000000  2008.000000\n",
              "75%         3.000000   7439.000000  2013.000000\n",
              "max         3.000000  10030.000000  2021.000000"
            ]
          },
          "metadata": {},
          "execution_count": 68
        }
      ]
    },
    {
      "cell_type": "code",
      "metadata": {
        "colab": {
          "base_uri": "https://localhost:8080/"
        },
        "id": "uzOSN7kb-Xku",
        "outputId": "d06afa73-1969-433e-9936-42e92737a8a5"
      },
      "source": [
        "df_new.dtypes"
      ],
      "execution_count": 69,
      "outputs": [
        {
          "output_type": "execute_result",
          "data": {
            "text/plain": [
              "imdbid           object\n",
              "bechdel_score     int64\n",
              "id                int64\n",
              "title            object\n",
              "year              int64\n",
              "dtype: object"
            ]
          },
          "metadata": {},
          "execution_count": 69
        }
      ]
    },
    {
      "cell_type": "code",
      "metadata": {
        "colab": {
          "base_uri": "https://localhost:8080/"
        },
        "id": "aief-ekH9sc-",
        "outputId": "ec907dd2-8ef3-4aaa-a975-0e97085afae6"
      },
      "source": [
        "#convert year column into date time object\n",
        "df_new['year'] = pd.to_datetime(df_new['year'], format = '%Y')"
      ],
      "execution_count": 70,
      "outputs": [
        {
          "output_type": "stream",
          "name": "stderr",
          "text": [
            "/usr/local/lib/python3.7/dist-packages/ipykernel_launcher.py:2: SettingWithCopyWarning: \n",
            "A value is trying to be set on a copy of a slice from a DataFrame.\n",
            "Try using .loc[row_indexer,col_indexer] = value instead\n",
            "\n",
            "See the caveats in the documentation: https://pandas.pydata.org/pandas-docs/stable/user_guide/indexing.html#returning-a-view-versus-a-copy\n",
            "  \n"
          ]
        }
      ]
    },
    {
      "cell_type": "code",
      "metadata": {
        "colab": {
          "base_uri": "https://localhost:8080/"
        },
        "id": "5_QlYRoC-rXZ",
        "outputId": "9af3bee5-8986-42d7-d2df-fdc319c81709"
      },
      "source": [
        "df_new.dtypes"
      ],
      "execution_count": 71,
      "outputs": [
        {
          "output_type": "execute_result",
          "data": {
            "text/plain": [
              "imdbid                   object\n",
              "bechdel_score             int64\n",
              "id                        int64\n",
              "title                    object\n",
              "year             datetime64[ns]\n",
              "dtype: object"
            ]
          },
          "metadata": {},
          "execution_count": 71
        }
      ]
    },
    {
      "cell_type": "code",
      "metadata": {
        "colab": {
          "base_uri": "https://localhost:8080/"
        },
        "id": "CZmDS9Nz-upW",
        "outputId": "414e7fef-701e-439f-d3b6-b7adb7c20b0d"
      },
      "source": [
        "#updating bechdel score to categorical\n",
        "df_new['bechdel_score'] = df_new['bechdel_score'].astype('category', copy = False)"
      ],
      "execution_count": 72,
      "outputs": [
        {
          "output_type": "stream",
          "name": "stderr",
          "text": [
            "/usr/local/lib/python3.7/dist-packages/ipykernel_launcher.py:2: SettingWithCopyWarning: \n",
            "A value is trying to be set on a copy of a slice from a DataFrame.\n",
            "Try using .loc[row_indexer,col_indexer] = value instead\n",
            "\n",
            "See the caveats in the documentation: https://pandas.pydata.org/pandas-docs/stable/user_guide/indexing.html#returning-a-view-versus-a-copy\n",
            "  \n"
          ]
        }
      ]
    },
    {
      "cell_type": "markdown",
      "metadata": {
        "id": "_ALbx0wt_Shm"
      },
      "source": [
        "Data Visualization"
      ]
    },
    {
      "cell_type": "code",
      "metadata": {
        "id": "UOt8PxFO_Ay2"
      },
      "source": [
        "import seaborn as sns"
      ],
      "execution_count": 73,
      "outputs": []
    },
    {
      "cell_type": "code",
      "metadata": {
        "colab": {
          "base_uri": "https://localhost:8080/",
          "height": 301
        },
        "id": "sw5AhTIS_aG3",
        "outputId": "1d97c190-4510-42c9-c23f-0cf775da69f7"
      },
      "source": [
        "sns.countplot(x = 'bechdel_score', data = df_new)"
      ],
      "execution_count": 74,
      "outputs": [
        {
          "output_type": "execute_result",
          "data": {
            "text/plain": [
              "<matplotlib.axes._subplots.AxesSubplot at 0x7f628e466210>"
            ]
          },
          "metadata": {},
          "execution_count": 74
        },
        {
          "output_type": "display_data",
          "data": {
            "image/png": "[encoded data removed]",
            "text/plain": [
              "<Figure size 432x288 with 1 Axes>"
            ]
          },
          "metadata": {
            "needs_background": "light"
          }
        }
      ]
    },
    {
      "cell_type": "code",
      "metadata": {
        "colab": {
          "base_uri": "https://localhost:8080/",
          "height": 326
        },
        "id": "3HLAexRr_ipf",
        "outputId": "2924a8d2-62b4-469c-c62c-e6bdbdf3cf62"
      },
      "source": [
        "#creating new column to check if movies passed bechdel test\n",
        "li = []\n",
        "for i in df_new['bechdel_score']:\n",
        "  if(i<3):\n",
        "    li.append(0)\n",
        "  else:\n",
        "    li.append(1)\n",
        "df_new['pass_test'] = li\n",
        "df_new.head()"
      ],
      "execution_count": 75,
      "outputs": [
        {
          "output_type": "stream",
          "name": "stderr",
          "text": [
            "/usr/local/lib/python3.7/dist-packages/ipykernel_launcher.py:8: SettingWithCopyWarning: \n",
            "A value is trying to be set on a copy of a slice from a DataFrame.\n",
            "Try using .loc[row_indexer,col_indexer] = value instead\n",
            "\n",
            "See the caveats in the documentation: https://pandas.pydata.org/pandas-docs/stable/user_guide/indexing.html#returning-a-view-versus-a-copy\n",
            "  \n"
          ]
        },
        {
          "output_type": "execute_result",
          "data": {
            "text/html": [
              "<div>\n",
              "<style scoped>\n",
              "    .dataframe tbody tr th:only-of-type {\n",
              "        vertical-align: middle;\n",
              "    }\n",
              "\n",
              "    .dataframe tbody tr th {\n",
              "        vertical-align: top;\n",
              "    }\n",
              "\n",
              "    .dataframe thead th {\n",
              "        text-align: right;\n",
              "    }\n",
              "</style>\n",
              "<table border=\"1\" class=\"dataframe\">\n",
              "  <thead>\n",
              "    <tr style=\"text-align: right;\">\n",
              "      <th></th>\n",
              "      <th>imdbid</th>\n",
              "      <th>bechdel_score</th>\n",
              "      <th>id</th>\n",
              "      <th>title</th>\n",
              "      <th>year</th>\n",
              "      <th>pass_test</th>\n",
              "    </tr>\n",
              "  </thead>\n",
              "  <tbody>\n",
              "    <tr>\n",
              "      <th>1219</th>\n",
              "      <td>0062990</td>\n",
              "      <td>3</td>\n",
              "      <td>4722</td>\n",
              "      <td>Fox, The</td>\n",
              "      <td>1967-01-01</td>\n",
              "      <td>1</td>\n",
              "    </tr>\n",
              "    <tr>\n",
              "      <th>1220</th>\n",
              "      <td>0063278</td>\n",
              "      <td>1</td>\n",
              "      <td>2054</td>\n",
              "      <td>Marketa Lazarova</td>\n",
              "      <td>1967-01-01</td>\n",
              "      <td>0</td>\n",
              "    </tr>\n",
              "    <tr>\n",
              "      <th>1221</th>\n",
              "      <td>0062411</td>\n",
              "      <td>3</td>\n",
              "      <td>6714</td>\n",
              "      <td>Uchu daikaiju Girara</td>\n",
              "      <td>1967-01-01</td>\n",
              "      <td>1</td>\n",
              "    </tr>\n",
              "    <tr>\n",
              "      <th>1222</th>\n",
              "      <td>0061512</td>\n",
              "      <td>1</td>\n",
              "      <td>301</td>\n",
              "      <td>Cool Hand Luke</td>\n",
              "      <td>1967-01-01</td>\n",
              "      <td>0</td>\n",
              "    </tr>\n",
              "    <tr>\n",
              "      <th>1223</th>\n",
              "      <td>0061452</td>\n",
              "      <td>2</td>\n",
              "      <td>2664</td>\n",
              "      <td>Casino Royale</td>\n",
              "      <td>1967-01-01</td>\n",
              "      <td>0</td>\n",
              "    </tr>\n",
              "  </tbody>\n",
              "</table>\n",
              "</div>"
            ],
            "text/plain": [
              "       imdbid bechdel_score    id                 title       year  pass_test\n",
              "1219  0062990             3  4722              Fox, The 1967-01-01          1\n",
              "1220  0063278             1  2054      Marketa Lazarova 1967-01-01          0\n",
              "1221  0062411             3  6714  Uchu daikaiju Girara 1967-01-01          1\n",
              "1222  0061512             1   301        Cool Hand Luke 1967-01-01          0\n",
              "1223  0061452             2  2664         Casino Royale 1967-01-01          0"
            ]
          },
          "metadata": {},
          "execution_count": 75
        }
      ]
    },
    {
      "cell_type": "code",
      "metadata": {
        "colab": {
          "base_uri": "https://localhost:8080/",
          "height": 301
        },
        "id": "RpY7RGfJAErY",
        "outputId": "a8acc44c-2ac8-4191-ee8a-b6d37fbbf1af"
      },
      "source": [
        "sns.countplot(x = 'pass_test', data = df_new)"
      ],
      "execution_count": 76,
      "outputs": [
        {
          "output_type": "execute_result",
          "data": {
            "text/plain": [
              "<matplotlib.axes._subplots.AxesSubplot at 0x7f628e4de550>"
            ]
          },
          "metadata": {},
          "execution_count": 76
        },
        {
          "output_type": "display_data",
          "data": {
            "image/png": "[encoded data removed]",
            "text/plain": [
              "<Figure size 432x288 with 1 Axes>"
            ]
          },
          "metadata": {
            "needs_background": "light"
          }
        }
      ]
    },
    {
      "cell_type": "code",
      "metadata": {
        "colab": {
          "base_uri": "https://localhost:8080/",
          "height": 518
        },
        "id": "oSeGOlqPAxWY",
        "outputId": "69a189bf-cb9b-46e8-fe39-186f3ea5110c"
      },
      "source": [
        "from plotnine import *\n",
        "\n",
        "(ggplot(df_new) + \n",
        " geom_point(aes('year',color=df_new['bechdel_score']),\n",
        " stat='count',show_legend=False) +\n",
        " geom_line(aes('year',color=df_new['bechdel_score']),\n",
        "stat='count',show_legend=False))"
      ],
      "execution_count": 94,
      "outputs": [
        {
          "output_type": "stream",
          "name": "stderr",
          "text": [
            "/usr/local/lib/python3.7/dist-packages/plotnine/utils.py:1246: FutureWarning: is_categorical is deprecated and will be removed in a future version.  Use is_categorical_dtype instead\n",
            "  if pdtypes.is_categorical(arr):\n"
          ]
        },
        {
          "output_type": "display_data",
          "data": {
            "image/png": "[encoded data removed]",
            "text/plain": [
              "<Figure size 640x480 with 1 Axes>"
            ]
          },
          "metadata": {}
        },
        {
          "output_type": "execute_result",
          "data": {
            "text/plain": [
              "<ggplot: (8753829452509)>"
            ]
          },
          "metadata": {},
          "execution_count": 94
        }
      ]
    },
    {
      "cell_type": "code",
      "metadata": {
        "id": "ZQpYhItJOV5W"
      },
      "source": [
        "imdb = pd.read_csv('/content/drive/MyDrive/Colab Notebooks/imdb_top_1000.csv')"
      ],
      "execution_count": 78,
      "outputs": []
    },
    {
      "cell_type": "code",
      "metadata": {
        "colab": {
          "base_uri": "https://localhost:8080/",
          "height": 666
        },
        "id": "b_StquzVPBfW",
        "outputId": "21c7f34b-87cd-426a-a3e1-243ae67ad881"
      },
      "source": [
        "imdb.head()"
      ],
      "execution_count": 79,
      "outputs": [
        {
          "output_type": "execute_result",
          "data": {
            "text/html": [
              "<div>\n",
              "<style scoped>\n",
              "    .dataframe tbody tr th:only-of-type {\n",
              "        vertical-align: middle;\n",
              "    }\n",
              "\n",
              "    .dataframe tbody tr th {\n",
              "        vertical-align: top;\n",
              "    }\n",
              "\n",
              "    .dataframe thead th {\n",
              "        text-align: right;\n",
              "    }\n",
              "</style>\n",
              "<table border=\"1\" class=\"dataframe\">\n",
              "  <thead>\n",
              "    <tr style=\"text-align: right;\">\n",
              "      <th></th>\n",
              "      <th>Poster_Link</th>\n",
              "      <th>Series_Title</th>\n",
              "      <th>Released_Year</th>\n",
              "      <th>Certificate</th>\n",
              "      <th>Runtime</th>\n",
              "      <th>Genre</th>\n",
              "      <th>IMDB_Rating</th>\n",
              "      <th>Overview</th>\n",
              "      <th>Meta_score</th>\n",
              "      <th>Director</th>\n",
              "      <th>Star1</th>\n",
              "      <th>Star2</th>\n",
              "      <th>Star3</th>\n",
              "      <th>Star4</th>\n",
              "      <th>No_of_Votes</th>\n",
              "      <th>Gross</th>\n",
              "    </tr>\n",
              "  </thead>\n",
              "  <tbody>\n",
              "    <tr>\n",
              "      <th>0</th>\n",
              "      <td>https://m.media-amazon.com/images/M/MV5BMDFkYT...</td>\n",
              "      <td>The Shawshank Redemption</td>\n",
              "      <td>1994</td>\n",
              "      <td>A</td>\n",
              "      <td>142 min</td>\n",
              "      <td>Drama</td>\n",
              "      <td>9.3</td>\n",
              "      <td>Two imprisoned men bond over a number of years...</td>\n",
              "      <td>80.0</td>\n",
              "      <td>Frank Darabont</td>\n",
              "      <td>Tim Robbins</td>\n",
              "      <td>Morgan Freeman</td>\n",
              "      <td>Bob Gunton</td>\n",
              "      <td>William Sadler</td>\n",
              "      <td>2343110</td>\n",
              "      <td>28,341,469</td>\n",
              "    </tr>\n",
              "    <tr>\n",
              "      <th>1</th>\n",
              "      <td>https://m.media-amazon.com/images/M/MV5BM2MyNj...</td>\n",
              "      <td>The Godfather</td>\n",
              "      <td>1972</td>\n",
              "      <td>A</td>\n",
              "      <td>175 min</td>\n",
              "      <td>Crime, Drama</td>\n",
              "      <td>9.2</td>\n",
              "      <td>An organized crime dynasty's aging patriarch t...</td>\n",
              "      <td>100.0</td>\n",
              "      <td>Francis Ford Coppola</td>\n",
              "      <td>Marlon Brando</td>\n",
              "      <td>Al Pacino</td>\n",
              "      <td>James Caan</td>\n",
              "      <td>Diane Keaton</td>\n",
              "      <td>1620367</td>\n",
              "      <td>134,966,411</td>\n",
              "    </tr>\n",
              "    <tr>\n",
              "      <th>2</th>\n",
              "      <td>https://m.media-amazon.com/images/M/MV5BMTMxNT...</td>\n",
              "      <td>The Dark Knight</td>\n",
              "      <td>2008</td>\n",
              "      <td>UA</td>\n",
              "      <td>152 min</td>\n",
              "      <td>Action, Crime, Drama</td>\n",
              "      <td>9.0</td>\n",
              "      <td>When the menace known as the Joker wreaks havo...</td>\n",
              "      <td>84.0</td>\n",
              "      <td>Christopher Nolan</td>\n",
              "      <td>Christian Bale</td>\n",
              "      <td>Heath Ledger</td>\n",
              "      <td>Aaron Eckhart</td>\n",
              "      <td>Michael Caine</td>\n",
              "      <td>2303232</td>\n",
              "      <td>534,858,444</td>\n",
              "    </tr>\n",
              "    <tr>\n",
              "      <th>3</th>\n",
              "      <td>https://m.media-amazon.com/images/M/MV5BMWMwMG...</td>\n",
              "      <td>The Godfather: Part II</td>\n",
              "      <td>1974</td>\n",
              "      <td>A</td>\n",
              "      <td>202 min</td>\n",
              "      <td>Crime, Drama</td>\n",
              "      <td>9.0</td>\n",
              "      <td>The early life and career of Vito Corleone in ...</td>\n",
              "      <td>90.0</td>\n",
              "      <td>Francis Ford Coppola</td>\n",
              "      <td>Al Pacino</td>\n",
              "      <td>Robert De Niro</td>\n",
              "      <td>Robert Duvall</td>\n",
              "      <td>Diane Keaton</td>\n",
              "      <td>1129952</td>\n",
              "      <td>57,300,000</td>\n",
              "    </tr>\n",
              "    <tr>\n",
              "      <th>4</th>\n",
              "      <td>https://m.media-amazon.com/images/M/MV5BMWU4N2...</td>\n",
              "      <td>12 Angry Men</td>\n",
              "      <td>1957</td>\n",
              "      <td>U</td>\n",
              "      <td>96 min</td>\n",
              "      <td>Crime, Drama</td>\n",
              "      <td>9.0</td>\n",
              "      <td>A jury holdout attempts to prevent a miscarria...</td>\n",
              "      <td>96.0</td>\n",
              "      <td>Sidney Lumet</td>\n",
              "      <td>Henry Fonda</td>\n",
              "      <td>Lee J. Cobb</td>\n",
              "      <td>Martin Balsam</td>\n",
              "      <td>John Fiedler</td>\n",
              "      <td>689845</td>\n",
              "      <td>4,360,000</td>\n",
              "    </tr>\n",
              "  </tbody>\n",
              "</table>\n",
              "</div>"
            ],
            "text/plain": [
              "                                         Poster_Link  ...        Gross\n",
              "0  https://m.media-amazon.com/images/M/MV5BMDFkYT...  ...   28,341,469\n",
              "1  https://m.media-amazon.com/images/M/MV5BM2MyNj...  ...  134,966,411\n",
              "2  https://m.media-amazon.com/images/M/MV5BMTMxNT...  ...  534,858,444\n",
              "3  https://m.media-amazon.com/images/M/MV5BMWMwMG...  ...   57,300,000\n",
              "4  https://m.media-amazon.com/images/M/MV5BMWU4N2...  ...    4,360,000\n",
              "\n",
              "[5 rows x 16 columns]"
            ]
          },
          "metadata": {},
          "execution_count": 79
        }
      ]
    },
    {
      "cell_type": "code",
      "metadata": {
        "id": "ibosX4OEQSjf"
      },
      "source": [
        "imdb.rename(columns = {'Series_Title' : 'title'}, inplace = True)"
      ],
      "execution_count": 80,
      "outputs": []
    },
    {
      "cell_type": "code",
      "metadata": {
        "id": "c2XSsrYEPUhF"
      },
      "source": [
        "imdb_new = imdb[['title','IMDB_Rating']]"
      ],
      "execution_count": 81,
      "outputs": []
    },
    {
      "cell_type": "code",
      "metadata": {
        "id": "y2QHo7AsPknO"
      },
      "source": [
        "#left join IMDB and Bechdel data together\n",
        "df_new2 = pd.merge(df_new, imdb_new, how = 'left', left_on = ['title'], right_on = ['title'])"
      ],
      "execution_count": 82,
      "outputs": []
    },
    {
      "cell_type": "code",
      "metadata": {
        "colab": {
          "base_uri": "https://localhost:8080/",
          "height": 204
        },
        "id": "r-kYvzKKPyC5",
        "outputId": "4427a524-8969-4c16-bab2-f3ce4be861aa"
      },
      "source": [
        "df_new2.head()"
      ],
      "execution_count": 83,
      "outputs": [
        {
          "output_type": "execute_result",
          "data": {
            "text/html": [
              "<div>\n",
              "<style scoped>\n",
              "    .dataframe tbody tr th:only-of-type {\n",
              "        vertical-align: middle;\n",
              "    }\n",
              "\n",
              "    .dataframe tbody tr th {\n",
              "        vertical-align: top;\n",
              "    }\n",
              "\n",
              "    .dataframe thead th {\n",
              "        text-align: right;\n",
              "    }\n",
              "</style>\n",
              "<table border=\"1\" class=\"dataframe\">\n",
              "  <thead>\n",
              "    <tr style=\"text-align: right;\">\n",
              "      <th></th>\n",
              "      <th>imdbid</th>\n",
              "      <th>bechdel_score</th>\n",
              "      <th>id</th>\n",
              "      <th>title</th>\n",
              "      <th>year</th>\n",
              "      <th>pass_test</th>\n",
              "      <th>IMDB_Rating</th>\n",
              "    </tr>\n",
              "  </thead>\n",
              "  <tbody>\n",
              "    <tr>\n",
              "      <th>0</th>\n",
              "      <td>0062990</td>\n",
              "      <td>3</td>\n",
              "      <td>4722</td>\n",
              "      <td>Fox, The</td>\n",
              "      <td>1967-01-01</td>\n",
              "      <td>1</td>\n",
              "      <td>NaN</td>\n",
              "    </tr>\n",
              "    <tr>\n",
              "      <th>1</th>\n",
              "      <td>0063278</td>\n",
              "      <td>1</td>\n",
              "      <td>2054</td>\n",
              "      <td>Marketa Lazarova</td>\n",
              "      <td>1967-01-01</td>\n",
              "      <td>0</td>\n",
              "      <td>NaN</td>\n",
              "    </tr>\n",
              "    <tr>\n",
              "      <th>2</th>\n",
              "      <td>0062411</td>\n",
              "      <td>3</td>\n",
              "      <td>6714</td>\n",
              "      <td>Uchu daikaiju Girara</td>\n",
              "      <td>1967-01-01</td>\n",
              "      <td>1</td>\n",
              "      <td>NaN</td>\n",
              "    </tr>\n",
              "    <tr>\n",
              "      <th>3</th>\n",
              "      <td>0061512</td>\n",
              "      <td>1</td>\n",
              "      <td>301</td>\n",
              "      <td>Cool Hand Luke</td>\n",
              "      <td>1967-01-01</td>\n",
              "      <td>0</td>\n",
              "      <td>8.1</td>\n",
              "    </tr>\n",
              "    <tr>\n",
              "      <th>4</th>\n",
              "      <td>0061452</td>\n",
              "      <td>2</td>\n",
              "      <td>2664</td>\n",
              "      <td>Casino Royale</td>\n",
              "      <td>1967-01-01</td>\n",
              "      <td>0</td>\n",
              "      <td>8.0</td>\n",
              "    </tr>\n",
              "  </tbody>\n",
              "</table>\n",
              "</div>"
            ],
            "text/plain": [
              "    imdbid bechdel_score    id  ...       year pass_test  IMDB_Rating\n",
              "0  0062990             3  4722  ... 1967-01-01         1          NaN\n",
              "1  0063278             1  2054  ... 1967-01-01         0          NaN\n",
              "2  0062411             3  6714  ... 1967-01-01         1          NaN\n",
              "3  0061512             1   301  ... 1967-01-01         0          8.1\n",
              "4  0061452             2  2664  ... 1967-01-01         0          8.0\n",
              "\n",
              "[5 rows x 7 columns]"
            ]
          },
          "metadata": {},
          "execution_count": 83
        }
      ]
    },
    {
      "cell_type": "code",
      "metadata": {
        "id": "5Xnrt3j3P136"
      },
      "source": [
        "#Drop rows with null values\n",
        "df_new2 = df_new2.dropna()"
      ],
      "execution_count": 86,
      "outputs": []
    },
    {
      "cell_type": "code",
      "metadata": {
        "colab": {
          "base_uri": "https://localhost:8080/"
        },
        "id": "_kMMnCAwSJbI",
        "outputId": "6294620b-3194-4ead-8a1e-797c9fd3b4b3"
      },
      "source": [
        "df_new2.dtypes"
      ],
      "execution_count": 92,
      "outputs": [
        {
          "output_type": "execute_result",
          "data": {
            "text/plain": [
              "imdbid                   object\n",
              "bechdel_score          category\n",
              "title                    object\n",
              "year             datetime64[ns]\n",
              "pass_test                 int64\n",
              "IMDB_Rating             float64\n",
              "dtype: object"
            ]
          },
          "metadata": {},
          "execution_count": 92
        }
      ]
    },
    {
      "cell_type": "code",
      "metadata": {
        "colab": {
          "base_uri": "https://localhost:8080/"
        },
        "id": "w0DR9rsAR_qg",
        "outputId": "a4fb4c32-2705-4956-bca4-bd8684b6ddd9"
      },
      "source": [
        "df_new2.isna().sum()"
      ],
      "execution_count": 91,
      "outputs": [
        {
          "output_type": "execute_result",
          "data": {
            "text/plain": [
              "imdbid           0\n",
              "bechdel_score    0\n",
              "title            0\n",
              "year             0\n",
              "pass_test        0\n",
              "IMDB_Rating      0\n",
              "dtype: int64"
            ]
          },
          "metadata": {},
          "execution_count": 91
        }
      ]
    },
    {
      "cell_type": "code",
      "metadata": {
        "id": "dk6qYOGjRD5-"
      },
      "source": [
        "df_new2 = df_new2.drop('id', axis = 1)"
      ],
      "execution_count": 87,
      "outputs": []
    },
    {
      "cell_type": "code",
      "metadata": {
        "id": "FabqheqFRJef"
      },
      "source": [
        "#creates new df with only year, bechdel score and imdb rating\n",
        "df_new3 = df_new2.groupby(['year','bechdel_score']).agg({'IMDB_Rating':'mean'}).reset_index()"
      ],
      "execution_count": 89,
      "outputs": []
    },
    {
      "cell_type": "code",
      "metadata": {
        "colab": {
          "base_uri": "https://localhost:8080/",
          "height": 204
        },
        "id": "LCimy0UcRrVY",
        "outputId": "d5c2406c-91ab-400c-b85e-7dbdc8dad3ad"
      },
      "source": [
        "df_new3.head()"
      ],
      "execution_count": 90,
      "outputs": [
        {
          "output_type": "execute_result",
          "data": {
            "text/html": [
              "<div>\n",
              "<style scoped>\n",
              "    .dataframe tbody tr th:only-of-type {\n",
              "        vertical-align: middle;\n",
              "    }\n",
              "\n",
              "    .dataframe tbody tr th {\n",
              "        vertical-align: top;\n",
              "    }\n",
              "\n",
              "    .dataframe thead th {\n",
              "        text-align: right;\n",
              "    }\n",
              "</style>\n",
              "<table border=\"1\" class=\"dataframe\">\n",
              "  <thead>\n",
              "    <tr style=\"text-align: right;\">\n",
              "      <th></th>\n",
              "      <th>year</th>\n",
              "      <th>bechdel_score</th>\n",
              "      <th>IMDB_Rating</th>\n",
              "    </tr>\n",
              "  </thead>\n",
              "  <tbody>\n",
              "    <tr>\n",
              "      <th>0</th>\n",
              "      <td>1967-01-01</td>\n",
              "      <td>0</td>\n",
              "      <td>NaN</td>\n",
              "    </tr>\n",
              "    <tr>\n",
              "      <th>1</th>\n",
              "      <td>1967-01-01</td>\n",
              "      <td>1</td>\n",
              "      <td>8.0</td>\n",
              "    </tr>\n",
              "    <tr>\n",
              "      <th>2</th>\n",
              "      <td>1967-01-01</td>\n",
              "      <td>2</td>\n",
              "      <td>8.0</td>\n",
              "    </tr>\n",
              "    <tr>\n",
              "      <th>3</th>\n",
              "      <td>1967-01-01</td>\n",
              "      <td>3</td>\n",
              "      <td>7.8</td>\n",
              "    </tr>\n",
              "    <tr>\n",
              "      <th>4</th>\n",
              "      <td>1968-01-01</td>\n",
              "      <td>0</td>\n",
              "      <td>8.3</td>\n",
              "    </tr>\n",
              "  </tbody>\n",
              "</table>\n",
              "</div>"
            ],
            "text/plain": [
              "        year bechdel_score  IMDB_Rating\n",
              "0 1967-01-01             0          NaN\n",
              "1 1967-01-01             1          8.0\n",
              "2 1967-01-01             2          8.0\n",
              "3 1967-01-01             3          7.8\n",
              "4 1968-01-01             0          8.3"
            ]
          },
          "metadata": {},
          "execution_count": 90
        }
      ]
    },
    {
      "cell_type": "code",
      "metadata": {
        "colab": {
          "base_uri": "https://localhost:8080/",
          "height": 564
        },
        "id": "w9ARpadASyvn",
        "outputId": "ac999fb7-4705-4726-a6d0-fe0d091c760b"
      },
      "source": [
        "(ggplot(df_new3,aes(x='year',y='IMDB_Rating',color='bechdel_score'))+ \n",
        "geom_point()+geom_smooth()+scale_y_continuous(name=\"imdb rating\"))"
      ],
      "execution_count": 102,
      "outputs": [
        {
          "output_type": "stream",
          "name": "stderr",
          "text": [
            "/usr/local/lib/python3.7/dist-packages/plotnine/utils.py:1246: FutureWarning: is_categorical is deprecated and will be removed in a future version.  Use is_categorical_dtype instead\n",
            "  if pdtypes.is_categorical(arr):\n",
            "/usr/local/lib/python3.7/dist-packages/plotnine/stats/smoothers.py:168: PlotnineWarning: Confidence intervals are not yet implementedfor lowess smoothings.\n",
            "  \"for lowess smoothings.\", PlotnineWarning)\n",
            "/usr/local/lib/python3.7/dist-packages/plotnine/layer.py:452: PlotnineWarning: geom_point : Removed 51 rows containing missing values.\n",
            "  self.data = self.geom.handle_na(self.data)\n"
          ]
        },
        {
          "output_type": "display_data",
          "data": {
            "image/png": "[encoded data removed]",
            "text/plain": [
              "<Figure size 640x480 with 1 Axes>"
            ]
          },
          "metadata": {}
        },
        {
          "output_type": "execute_result",
          "data": {
            "text/plain": [
              "<ggplot: (8753829435373)>"
            ]
          },
          "metadata": {},
          "execution_count": 102
        }
      ]
    },
    {
      "cell_type": "markdown",
      "metadata": {
        "id": "c55hu1JmlGBD"
      },
      "source": [
        "Relationship between gender of director and bechdel score"
      ]
    },
    {
      "cell_type": "code",
      "metadata": {
        "id": "VsDPD-hOla8f"
      },
      "source": [
        ""
      ],
      "execution_count": null,
      "outputs": []
    },
    {
      "cell_type": "code",
      "metadata": {
        "colab": {
          "base_uri": "https://localhost:8080/"
        },
        "id": "hSAht3Z5lFov",
        "outputId": "5c706e11-0167-4298-eb4e-0fe192ce8599"
      },
      "source": [
        "!pip install gender-guesser\n",
        "import  gender_guesser.detector as gen"
      ],
      "execution_count": 109,
      "outputs": [
        {
          "output_type": "stream",
          "name": "stdout",
          "text": [
            "Collecting gender-guesser\n",
            "  Downloading gender_guesser-0.4.0-py2.py3-none-any.whl (379 kB)\n",
            "\u001b[?25l\r\u001b[K     |▉                               | 10 kB 21.3 MB/s eta 0:00:01\r\u001b[K     |█▊                              | 20 kB 27.8 MB/s eta 0:00:01\r\u001b[K     |██▋                             | 30 kB 12.9 MB/s eta 0:00:01\r\u001b[K     |███▌                            | 40 kB 9.6 MB/s eta 0:00:01\r\u001b[K     |████▎                           | 51 kB 5.2 MB/s eta 0:00:01\r\u001b[K     |█████▏                          | 61 kB 5.6 MB/s eta 0:00:01\r\u001b[K     |██████                          | 71 kB 6.0 MB/s eta 0:00:01\r\u001b[K     |███████                         | 81 kB 6.8 MB/s eta 0:00:01\r\u001b[K     |███████▊                        | 92 kB 6.7 MB/s eta 0:00:01\r\u001b[K     |████████▋                       | 102 kB 5.4 MB/s eta 0:00:01\r\u001b[K     |█████████▌                      | 112 kB 5.4 MB/s eta 0:00:01\r\u001b[K     |██████████▍                     | 122 kB 5.4 MB/s eta 0:00:01\r\u001b[K     |███████████▎                    | 133 kB 5.4 MB/s eta 0:00:01\r\u001b[K     |████████████                    | 143 kB 5.4 MB/s eta 0:00:01\r\u001b[K     |█████████████                   | 153 kB 5.4 MB/s eta 0:00:01\r\u001b[K     |█████████████▉                  | 163 kB 5.4 MB/s eta 0:00:01\r\u001b[K     |██████████████▊                 | 174 kB 5.4 MB/s eta 0:00:01\r\u001b[K     |███████████████▌                | 184 kB 5.4 MB/s eta 0:00:01\r\u001b[K     |████████████████▍               | 194 kB 5.4 MB/s eta 0:00:01\r\u001b[K     |█████████████████▎              | 204 kB 5.4 MB/s eta 0:00:01\r\u001b[K     |██████████████████▏             | 215 kB 5.4 MB/s eta 0:00:01\r\u001b[K     |███████████████████             | 225 kB 5.4 MB/s eta 0:00:01\r\u001b[K     |███████████████████▉            | 235 kB 5.4 MB/s eta 0:00:01\r\u001b[K     |████████████████████▊           | 245 kB 5.4 MB/s eta 0:00:01\r\u001b[K     |█████████████████████▋          | 256 kB 5.4 MB/s eta 0:00:01\r\u001b[K     |██████████████████████▌         | 266 kB 5.4 MB/s eta 0:00:01\r\u001b[K     |███████████████████████▎        | 276 kB 5.4 MB/s eta 0:00:01\r\u001b[K     |████████████████████████▏       | 286 kB 5.4 MB/s eta 0:00:01\r\u001b[K     |█████████████████████████       | 296 kB 5.4 MB/s eta 0:00:01\r\u001b[K     |██████████████████████████      | 307 kB 5.4 MB/s eta 0:00:01\r\u001b[K     |██████████████████████████▉     | 317 kB 5.4 MB/s eta 0:00:01\r\u001b[K     |███████████████████████████▋    | 327 kB 5.4 MB/s eta 0:00:01\r\u001b[K     |████████████████████████████▌   | 337 kB 5.4 MB/s eta 0:00:01\r\u001b[K     |█████████████████████████████▍  | 348 kB 5.4 MB/s eta 0:00:01\r\u001b[K     |██████████████████████████████▎ | 358 kB 5.4 MB/s eta 0:00:01\r\u001b[K     |███████████████████████████████ | 368 kB 5.4 MB/s eta 0:00:01\r\u001b[K     |████████████████████████████████| 378 kB 5.4 MB/s eta 0:00:01\r\u001b[K     |████████████████████████████████| 379 kB 5.4 MB/s \n",
            "\u001b[?25hInstalling collected packages: gender-guesser\n",
            "Successfully installed gender-guesser-0.4.0\n"
          ]
        }
      ]
    },
    {
      "cell_type": "code",
      "metadata": {
        "id": "SEb9E4LtlvFo"
      },
      "source": [
        "imdb_gen = imdb[['title','Director']]"
      ],
      "execution_count": 113,
      "outputs": []
    },
    {
      "cell_type": "code",
      "metadata": {
        "id": "O8ljW7wJmCda"
      },
      "source": [
        "df_new4 = pd.merge(df_new2, imdb_gen, how = 'left',\n",
        "                   left_on = ['title'], right_on = ['title'])"
      ],
      "execution_count": 114,
      "outputs": []
    },
    {
      "cell_type": "code",
      "metadata": {
        "colab": {
          "base_uri": "https://localhost:8080/",
          "height": 289
        },
        "id": "22_RrpEqmQkg",
        "outputId": "a70f3cdf-cb6c-4f19-c0c6-c58254d1b35b"
      },
      "source": [
        "df_new4.head()"
      ],
      "execution_count": 115,
      "outputs": [
        {
          "output_type": "execute_result",
          "data": {
            "text/html": [
              "<div>\n",
              "<style scoped>\n",
              "    .dataframe tbody tr th:only-of-type {\n",
              "        vertical-align: middle;\n",
              "    }\n",
              "\n",
              "    .dataframe tbody tr th {\n",
              "        vertical-align: top;\n",
              "    }\n",
              "\n",
              "    .dataframe thead th {\n",
              "        text-align: right;\n",
              "    }\n",
              "</style>\n",
              "<table border=\"1\" class=\"dataframe\">\n",
              "  <thead>\n",
              "    <tr style=\"text-align: right;\">\n",
              "      <th></th>\n",
              "      <th>imdbid</th>\n",
              "      <th>bechdel_score</th>\n",
              "      <th>title</th>\n",
              "      <th>year</th>\n",
              "      <th>pass_test</th>\n",
              "      <th>IMDB_Rating</th>\n",
              "      <th>Director</th>\n",
              "    </tr>\n",
              "  </thead>\n",
              "  <tbody>\n",
              "    <tr>\n",
              "      <th>0</th>\n",
              "      <td>0061512</td>\n",
              "      <td>1</td>\n",
              "      <td>Cool Hand Luke</td>\n",
              "      <td>1967-01-01</td>\n",
              "      <td>0</td>\n",
              "      <td>8.1</td>\n",
              "      <td>Stuart Rosenberg</td>\n",
              "    </tr>\n",
              "    <tr>\n",
              "      <th>1</th>\n",
              "      <td>0061452</td>\n",
              "      <td>2</td>\n",
              "      <td>Casino Royale</td>\n",
              "      <td>1967-01-01</td>\n",
              "      <td>0</td>\n",
              "      <td>8.0</td>\n",
              "      <td>Martin Campbell</td>\n",
              "    </tr>\n",
              "    <tr>\n",
              "      <th>2</th>\n",
              "      <td>0062467</td>\n",
              "      <td>3</td>\n",
              "      <td>Wait Until Dark</td>\n",
              "      <td>1967-01-01</td>\n",
              "      <td>1</td>\n",
              "      <td>7.8</td>\n",
              "      <td>Terence Young</td>\n",
              "    </tr>\n",
              "    <tr>\n",
              "      <th>3</th>\n",
              "      <td>0061811</td>\n",
              "      <td>1</td>\n",
              "      <td>In the Heat of the Night</td>\n",
              "      <td>1967-01-01</td>\n",
              "      <td>0</td>\n",
              "      <td>7.9</td>\n",
              "      <td>Norman Jewison</td>\n",
              "    </tr>\n",
              "    <tr>\n",
              "      <th>4</th>\n",
              "      <td>0061418</td>\n",
              "      <td>3</td>\n",
              "      <td>Bonnie and Clyde</td>\n",
              "      <td>1967-01-01</td>\n",
              "      <td>1</td>\n",
              "      <td>7.8</td>\n",
              "      <td>Arthur Penn</td>\n",
              "    </tr>\n",
              "  </tbody>\n",
              "</table>\n",
              "</div>"
            ],
            "text/plain": [
              "    imdbid bechdel_score  ... IMDB_Rating          Director\n",
              "0  0061512             1  ...         8.1  Stuart Rosenberg\n",
              "1  0061452             2  ...         8.0   Martin Campbell\n",
              "2  0062467             3  ...         7.8     Terence Young\n",
              "3  0061811             1  ...         7.9    Norman Jewison\n",
              "4  0061418             3  ...         7.8       Arthur Penn\n",
              "\n",
              "[5 rows x 7 columns]"
            ]
          },
          "metadata": {},
          "execution_count": 115
        }
      ]
    },
    {
      "cell_type": "code",
      "metadata": {
        "id": "IClVTiwwmTjg"
      },
      "source": [
        "df_new4 = df_new4.dropna()"
      ],
      "execution_count": 116,
      "outputs": []
    },
    {
      "cell_type": "code",
      "metadata": {
        "id": "jHm5sUx5mW8y"
      },
      "source": [
        "#Predict gender of director using first name:\n",
        "d = gen.Detector()\n",
        "genders = []\n",
        "firstnames = df_new4['Director'].str.split().str.get(0)\n",
        "for i in firstnames[0:len(firstnames)]:\n",
        "  if d.get_gender(i) == 'male':\n",
        "    genders.append('male')\n",
        "  elif d.get_gender(i) == 'female':\n",
        "    genders.append('female')\n",
        "  else:\n",
        "    genders.append('unknown')"
      ],
      "execution_count": 118,
      "outputs": []
    },
    {
      "cell_type": "code",
      "metadata": {
        "id": "05YvqDB8m9ap"
      },
      "source": [
        "df_new4['gender'] = genders\n",
        "df_new4 = df_new4[df_new4['gender'] != 'unknown']"
      ],
      "execution_count": 120,
      "outputs": []
    },
    {
      "cell_type": "code",
      "metadata": {
        "colab": {
          "base_uri": "https://localhost:8080/"
        },
        "id": "7zrfpBLynP3R",
        "outputId": "8e2fa894-fa1e-4e83-ce39-0254439f2ed5"
      },
      "source": [
        "#encoding gender variable\n",
        "df_new4['male'] = df_new4['gender'].map({'male':1, 'female':0})"
      ],
      "execution_count": 121,
      "outputs": [
        {
          "output_type": "stream",
          "name": "stderr",
          "text": [
            "/usr/local/lib/python3.7/dist-packages/ipykernel_launcher.py:2: SettingWithCopyWarning: \n",
            "A value is trying to be set on a copy of a slice from a DataFrame.\n",
            "Try using .loc[row_indexer,col_indexer] = value instead\n",
            "\n",
            "See the caveats in the documentation: https://pandas.pydata.org/pandas-docs/stable/user_guide/indexing.html#returning-a-view-versus-a-copy\n",
            "  \n"
          ]
        }
      ]
    },
    {
      "cell_type": "code",
      "metadata": {
        "colab": {
          "base_uri": "https://localhost:8080/",
          "height": 394
        },
        "id": "Mg1dnHTJnbKo",
        "outputId": "34814f85-3fff-4c61-e0b0-331eb5332cc4"
      },
      "source": [
        "df_new4.head()"
      ],
      "execution_count": 122,
      "outputs": [
        {
          "output_type": "execute_result",
          "data": {
            "text/html": [
              "<div>\n",
              "<style scoped>\n",
              "    .dataframe tbody tr th:only-of-type {\n",
              "        vertical-align: middle;\n",
              "    }\n",
              "\n",
              "    .dataframe tbody tr th {\n",
              "        vertical-align: top;\n",
              "    }\n",
              "\n",
              "    .dataframe thead th {\n",
              "        text-align: right;\n",
              "    }\n",
              "</style>\n",
              "<table border=\"1\" class=\"dataframe\">\n",
              "  <thead>\n",
              "    <tr style=\"text-align: right;\">\n",
              "      <th></th>\n",
              "      <th>imdbid</th>\n",
              "      <th>bechdel_score</th>\n",
              "      <th>title</th>\n",
              "      <th>year</th>\n",
              "      <th>pass_test</th>\n",
              "      <th>IMDB_Rating</th>\n",
              "      <th>Director</th>\n",
              "      <th>gender</th>\n",
              "      <th>male</th>\n",
              "    </tr>\n",
              "  </thead>\n",
              "  <tbody>\n",
              "    <tr>\n",
              "      <th>0</th>\n",
              "      <td>0061512</td>\n",
              "      <td>1</td>\n",
              "      <td>Cool Hand Luke</td>\n",
              "      <td>1967-01-01</td>\n",
              "      <td>0</td>\n",
              "      <td>8.1</td>\n",
              "      <td>Stuart Rosenberg</td>\n",
              "      <td>male</td>\n",
              "      <td>1</td>\n",
              "    </tr>\n",
              "    <tr>\n",
              "      <th>1</th>\n",
              "      <td>0061452</td>\n",
              "      <td>2</td>\n",
              "      <td>Casino Royale</td>\n",
              "      <td>1967-01-01</td>\n",
              "      <td>0</td>\n",
              "      <td>8.0</td>\n",
              "      <td>Martin Campbell</td>\n",
              "      <td>male</td>\n",
              "      <td>1</td>\n",
              "    </tr>\n",
              "    <tr>\n",
              "      <th>2</th>\n",
              "      <td>0062467</td>\n",
              "      <td>3</td>\n",
              "      <td>Wait Until Dark</td>\n",
              "      <td>1967-01-01</td>\n",
              "      <td>1</td>\n",
              "      <td>7.8</td>\n",
              "      <td>Terence Young</td>\n",
              "      <td>male</td>\n",
              "      <td>1</td>\n",
              "    </tr>\n",
              "    <tr>\n",
              "      <th>3</th>\n",
              "      <td>0061811</td>\n",
              "      <td>1</td>\n",
              "      <td>In the Heat of the Night</td>\n",
              "      <td>1967-01-01</td>\n",
              "      <td>0</td>\n",
              "      <td>7.9</td>\n",
              "      <td>Norman Jewison</td>\n",
              "      <td>male</td>\n",
              "      <td>1</td>\n",
              "    </tr>\n",
              "    <tr>\n",
              "      <th>4</th>\n",
              "      <td>0061418</td>\n",
              "      <td>3</td>\n",
              "      <td>Bonnie and Clyde</td>\n",
              "      <td>1967-01-01</td>\n",
              "      <td>1</td>\n",
              "      <td>7.8</td>\n",
              "      <td>Arthur Penn</td>\n",
              "      <td>male</td>\n",
              "      <td>1</td>\n",
              "    </tr>\n",
              "  </tbody>\n",
              "</table>\n",
              "</div>"
            ],
            "text/plain": [
              "    imdbid bechdel_score  ... gender male\n",
              "0  0061512             1  ...   male    1\n",
              "1  0061452             2  ...   male    1\n",
              "2  0062467             3  ...   male    1\n",
              "3  0061811             1  ...   male    1\n",
              "4  0061418             3  ...   male    1\n",
              "\n",
              "[5 rows x 9 columns]"
            ]
          },
          "metadata": {},
          "execution_count": 122
        }
      ]
    },
    {
      "cell_type": "code",
      "metadata": {
        "colab": {
          "base_uri": "https://localhost:8080/",
          "height": 296
        },
        "id": "BqRGzUmhnehK",
        "outputId": "522b07de-3d08-4bfd-f5d2-8af4f886a395"
      },
      "source": [
        "sns.countplot(x = 'gender', data = df_new4)"
      ],
      "execution_count": 123,
      "outputs": [
        {
          "output_type": "execute_result",
          "data": {
            "text/plain": [
              "<matplotlib.axes._subplots.AxesSubplot at 0x7f628be92d10>"
            ]
          },
          "metadata": {},
          "execution_count": 123
        },
        {
          "output_type": "display_data",
          "data": {
            "image/png": "[encoded data removed]",
            "text/plain": [
              "<Figure size 432x288 with 1 Axes>"
            ]
          },
          "metadata": {
            "needs_background": "light"
          }
        }
      ]
    },
    {
      "cell_type": "code",
      "metadata": {
        "colab": {
          "base_uri": "https://localhost:8080/",
          "height": 297
        },
        "id": "xUGi31PFnjxQ",
        "outputId": "eddb065f-0f70-4dfa-920e-f61e6b2a8856"
      },
      "source": [
        "sns.countplot(x = 'bechdel_score', hue = 'gender', data = df_new4)"
      ],
      "execution_count": 124,
      "outputs": [
        {
          "output_type": "execute_result",
          "data": {
            "text/plain": [
              "<matplotlib.axes._subplots.AxesSubplot at 0x7f628dc40e90>"
            ]
          },
          "metadata": {},
          "execution_count": 124
        },
        {
          "output_type": "display_data",
          "data": {
            "image/png": "[encoded data removed]",
            "text/plain": [
              "<Figure size 432x288 with 1 Axes>"
            ]
          },
          "metadata": {
            "needs_background": "light"
          }
        }
      ]
    }
  ]
}